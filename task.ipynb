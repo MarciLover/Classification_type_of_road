{
 "cells": [
  {
   "cell_type": "markdown",
   "metadata": {},
   "source": [
    "## Задачи"
   ]
  },
  {
   "cell_type": "markdown",
   "metadata": {},
   "source": [
    "- [x] добавить папку с конфигами\n",
    "- [x] добавить логирование\n",
    "- [x] добавить аугментацию\n",
    "- [x] добавить заморозку слоев\n",
    "- [ ] создать систематизированную базу данных\n",
    "- [ ] ихчить варианты разметки всего датасета\n",
    "- [ ] расширить датасет\n",
    "- [ ] no_grad и interference_mode\n",
    "- [ ] argprance\n",
    "- [ ] сделать функцию обратной нормализации\n",
    "- [ ] посмотреть, почему нормализация именно такая"
   ]
  },
  {
   "cell_type": "markdown",
   "metadata": {},
   "source": [
    "Note: permute() will change shape of image to suit matplotlib\n",
    "\n",
    "(PyTorch default is [C, H, W] but Matplotlib is [H, W, C])"
   ]
  },
  {
   "cell_type": "markdown",
   "metadata": {},
   "source": [
    "## Вопросы"
   ]
  },
  {
   "cell_type": "markdown",
   "metadata": {},
   "source": [
    "Почему для BatchNorm2d требуется параметр required_grad и в weight и в bias, тогда как в conv1 параметр required_grad требуется только в weight?\n",
    "\n",
    "---\n",
    "\n",
    "conv1.weight True\n",
    "\n",
    "bn1.weight True\n",
    "\n",
    "bn1.bias True\n",
    "\n",
    "---\n",
    "\n",
    "(conv1): Conv2d(3, 64, kernel_size=(7, 7), stride=(2, 2), padding=(3, 3), bias=False)\n",
    "\n",
    "  (bn1): BatchNorm2d(64, eps=1e-05, momentum=0.1, affine=True, track_running_stats=True)\n",
    "\n",
    "  (relu): ReLU(inplace=True)\n",
    "\n",
    "  (maxpool): MaxPool2d(kernel_size=3, stride=2, padding=1, dilation=1, ceil_mode=False)\n",
    "\n",
    "\n"
   ]
  },
  {
   "cell_type": "markdown",
   "metadata": {},
   "source": []
  },
  {
   "cell_type": "code",
   "execution_count": null,
   "metadata": {},
   "outputs": [],
   "source": []
  },
  {
   "cell_type": "markdown",
   "metadata": {},
   "source": [
    "Данный код МЕНЯЕТ параметр requires_grad: \n",
    "    \n",
    "    for layer in model_0.layer1:\n",
    "        layer.requires_grad_(False)\n",
    "\n",
    "Код ниже НЕ МЕНЯЕТ параметр requires_grad:\n",
    "\n",
    "    for layer in model_0.layer3:\n",
    "        layer.requires_grad = False\n",
    "\n",
    "Код ниже МЕНЯЕТ все параметры requires_grad:\n",
    "\n",
    "    for param in model_0.parameters():\n",
    "        param.requires_grad = False\n",
    "        print(param.requires_grad)\n",
    "\n",
    "Код с выборочным изменением параметров, МЕНЯЕТ:\n",
    "\n",
    "    for name, param in model_0.named_parameters(): \n",
    "        if name == 'conv1.weight' or name == 'bn1.weight' or name == 'bn1.bias' or name == 'fc.weight' or name == 'fc.bias':\n",
    "            param.requires_grad = True\n",
    "        print(name, param.requires_grad)"
   ]
  },
  {
   "cell_type": "code",
   "execution_count": null,
   "metadata": {},
   "outputs": [],
   "source": []
  }
 ],
 "metadata": {
  "language_info": {
   "name": "python"
  }
 },
 "nbformat": 4,
 "nbformat_minor": 2
}
